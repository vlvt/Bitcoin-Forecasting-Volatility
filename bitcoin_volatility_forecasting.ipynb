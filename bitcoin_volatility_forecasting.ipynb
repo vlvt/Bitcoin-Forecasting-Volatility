{
  "nbformat": 4,
  "nbformat_minor": 0,
  "metadata": {
    "colab": {
      "provenance": [],
      "collapsed_sections": [
        "peamBMzWK4FC",
        "dnPXhsAFQOVI",
        "YVMt3CCDWERO"
      ],
      "authorship_tag": "ABX9TyOvMuYql2dD6JPztJXaZndk",
      "include_colab_link": true
    },
    "kernelspec": {
      "name": "python3",
      "display_name": "Python 3"
    },
    "language_info": {
      "name": "python"
    }
  },
  "cells": [
    {
      "cell_type": "markdown",
      "metadata": {
        "id": "view-in-github",
        "colab_type": "text"
      },
      "source": [
        "<a href=\"https://colab.research.google.com/github/vlvt/Bitcoin-Forecasting-Volatility/blob/main/bitcoin_volatility_forecasting.ipynb\" target=\"_parent\"><img src=\"https://colab.research.google.com/assets/colab-badge.svg\" alt=\"Open In Colab\"/></a>"
      ]
    },
    {
      "cell_type": "markdown",
      "source": [
        "# Step o. Project Description."
      ],
      "metadata": {
        "id": "peamBMzWK4FC"
      }
    },
    {
      "cell_type": "markdown",
      "source": [
        "In this project, I analyze historical Bitcoin price data over the past three years using Python in Google Colab. My primary goal is to understand how Bitcoin's price behaves over time, calculate key financial metrics (such as returns and volatility), and interpret the results from both mathematical and financial perspectives.\n",
        "\n",
        "##Objectives\n",
        "Load real-world Bitcoin data using the yfinance library.\n",
        "\n",
        "Clean and preprocess the data for analysis.\n",
        "\n",
        "Calculate daily returns, log returns, volatility, autocorrelation, and covariance.\n",
        "\n",
        "Visualize price behavior and statistical patterns through plots and summary statistics.\n",
        "\n",
        "Interpret the findings in the context of long-term investment strategies (e.g., HODL).\n",
        "\n",
        "Reflect on the limitations of the dataset, especially its unsuitability for high-frequency or grid trading strategies due to daily granularity.\n",
        "\n",
        "##Note\n",
        "This project focuses on long-term behavior. Since the dataset contains only daily price data, it is not suitable for algorithmic strategies like grid bots that rely on high-frequency (minute-level) data. The insights here are aimed at investors evaluating Bitcoin’s historical behavior for long-term decision-making.\n",
        "\n",
        "\n"
      ],
      "metadata": {
        "id": "kXxBNuLdLKUd"
      }
    },
    {
      "cell_type": "markdown",
      "source": [
        "# Step 1.  Data Preparation"
      ],
      "metadata": {
        "id": "17OseyUYLR17"
      }
    },
    {
      "cell_type": "code",
      "source": [
        "import requests\n",
        "import pandas as pd\n",
        "import numpy as np\n",
        "import matplotlib.pyplot as plt\n",
        "import seaborn as sns\n",
        "import yfinance as yf\n",
        "from statsmodels.graphics.tsaplots import plot_acf"
      ],
      "metadata": {
        "id": "40Gh1bwJLWm1"
      },
      "execution_count": null,
      "outputs": []
    },
    {
      "cell_type": "code",
      "source": [
        "# Download Bitcoin price data using yfinance\n",
        "btc = yf.download('BTC-USD', start='2020-06-09', end='2025-06-09', interval='1d')\n",
        "\n",
        "# Display the first 5 rows\n",
        "btc.head()"
      ],
      "metadata": {
        "id": "Bh8hksd9L5O8"
      },
      "execution_count": null,
      "outputs": []
    },
    {
      "cell_type": "code",
      "source": [
        "print(\"Shape of dataset:\", btc.shape)\n",
        "print(\"\\nData types:\", btc.dtypes)\n",
        "print(\"\\nMissing values:\", btc.isnull().sum())"
      ],
      "metadata": {
        "id": "QWSxGb3nOClx"
      },
      "execution_count": null,
      "outputs": []
    },
    {
      "cell_type": "markdown",
      "source": [
        "##Data Preparation Results\n",
        "After importing and checking the dataset:\n",
        "\n",
        "**Shape:** (1826, 5) — I have 1826 daily records and 5 columns.\n",
        "\n",
        "**Data Types:**\n",
        "All price columns (Close, High, Low, Open) are of type float64.\n",
        "Volume is of type int64.\n",
        "\n",
        "**Missing Values:**\n",
        "There are no missing values in any of the columns.\n",
        "\n",
        "**Interpretation:**\n",
        "The dataset is clean and ready for further analysis. Since all price columns are floats and there are no missing values, I can compute daily returns, volatility, and other financial metrics without additional data cleaning.\n",
        "\n",
        "**Note:**\n",
        "Because I am using daily-level data, this analysis is suitable for studying long-term market trends and holding strategies (HODL). For high-frequency trading strategies like GRID bots, minute-level data would be required, which is not available through Yahoo Finance's historical daily data.\n"
      ],
      "metadata": {
        "id": "00InTH6TPIQR"
      }
    },
    {
      "cell_type": "code",
      "source": [
        "print(type(btc.index))\n",
        "#**Note on Date Index:**\n",
        "#In our dataset, the date is set as the index (DatetimeIndex). This is ideal for time series analysis and plotting. We do not need to convert the date column or change its data type. If it had been an object type, we could have used `pd.to_datetime()`, but in this case, yfinance already parses the date properly.\n"
      ],
      "metadata": {
        "id": "ZXRRmU-sPgup"
      },
      "execution_count": null,
      "outputs": []
    },
    {
      "cell_type": "markdown",
      "source": [
        "# Step 2. Financial Metrics\n",
        "\n",
        "1. Daily Returns  \n",
        "2. Log Returns  \n",
        "3. Rolling Volatility  \n",
        "4. Cumulative Returns  \n",
        "5. Sharpe Ratio  \n",
        "6. Max Drawdown  \n",
        "\n",
        "**Metrics I will calculate:**\n",
        "- **Daily Returns**: Measures the daily percentage change in price.\n",
        "- **Log Returns**: A more statistically sound way to calculate returns, accounting for compounding effects.\n",
        "- **Rolling Volatility**: Measures the risk or uncertainty in returns over time.\n",
        "- **Cumulative Returns**: Shows the total return of holding Bitcoin over the entire period.\n",
        "- **Sharpe Ratio**: Evaluates risk-adjusted performance.\n",
        "- **Max Drawdown**: Measures the worst historical drop from a peak to a trough.\n",
        "\n",
        "Each metric is important for financial analysis and is widely used by analysts and traders to understand risk and return dynamics."
      ],
      "metadata": {
        "id": "dnPXhsAFQOVI"
      }
    },
    {
      "cell_type": "markdown",
      "source": [
        "I use a `try-except` block to handle cases where the DataFrame has a MultiIndex. This ensures that the analysis runs smoothly regardless of the data format."
      ],
      "metadata": {
        "id": "Q3rYHAVITTyE"
      }
    },
    {
      "cell_type": "code",
      "source": [
        "print(btc.columns)"
      ],
      "metadata": {
        "id": "Gx-J5W6nfOv9"
      },
      "execution_count": null,
      "outputs": []
    },
    {
      "cell_type": "code",
      "source": [
        "try:\n",
        "  btc.columns = btc.columns.droplevel(1)\n",
        "  print(\"MultiIndex detected and dropped.\")\n",
        "except Exception as e:\n",
        "  print(\"No MultiIndex to drop or error occured:\", e)\n",
        "\n",
        "\n",
        "print(\"Columns after flattering:\", btc.columns)"
      ],
      "metadata": {
        "id": "zScN6mRTTU1w"
      },
      "execution_count": null,
      "outputs": []
    },
    {
      "cell_type": "code",
      "source": [
        "btc['Daily Return'] = btc['Close'].pct_change() * 100\n",
        "display(btc[['Close', 'Daily Return']].head(10))"
      ],
      "metadata": {
        "id": "P392YQX9T6CO"
      },
      "execution_count": null,
      "outputs": []
    },
    {
      "cell_type": "code",
      "source": [
        "btc['Log Return'] = np.log(btc['Close'] / btc['Close'].shift(1)) * 100\n",
        "display(btc[['Close', 'Log Return']].head(10))"
      ],
      "metadata": {
        "id": "z8MaFVfrT-PI"
      },
      "execution_count": null,
      "outputs": []
    },
    {
      "cell_type": "markdown",
      "source": [
        "**Rolling Volatility:**\n",
        "- The first 29 rows of Rolling Volatility are NaN because I need at least 30 log return values to compute the standard deviation.\n",
        "- This is expected behavior when working with rolling window calculations.\n",
        "- Starting from day 30, Rolling Volatility reflects the 30-day standard deviation of the log returns, allowing me to analyze the risk and variability of Bitcoin's returns over time."
      ],
      "metadata": {
        "id": "wFOQPY1zU-YY"
      }
    },
    {
      "cell_type": "code",
      "source": [
        "btc['Rolling Volatility'] = btc['Log Return'].rolling(window=30).std()\n",
        "display(btc[['Log Return', 'Rolling Volatility']].head(35))\n",
        "#i need to use more than 30 rows"
      ],
      "metadata": {
        "id": "05FS-aQUUBZT"
      },
      "execution_count": null,
      "outputs": []
    },
    {
      "cell_type": "code",
      "source": [
        "btc['Cumulative Return'] = (1 + btc['Daily Return'] / 100).cumprod()\n",
        "display(btc[['Close', 'Cumulative Return']].head(10))"
      ],
      "metadata": {
        "id": "UM2NdrEHUGnf"
      },
      "execution_count": null,
      "outputs": []
    },
    {
      "cell_type": "code",
      "source": [
        "avg_daily_return = btc['Daily Return'].mean()\n",
        "std_daily_return = btc['Daily Return'].std()\n",
        "sharpe_ratio = (avg_daily_return / std_daily_return) * np.sqrt(252)\n",
        "print(\"Annualized Sharpe Ratio:\", round(sharpe_ratio, 2))"
      ],
      "metadata": {
        "id": "ef8dmClAUJw6"
      },
      "execution_count": null,
      "outputs": []
    },
    {
      "cell_type": "code",
      "source": [
        "cumulative_max = btc['Cumulative Return'].cummax()\n",
        "drawdown = btc['Cumulative Return'] / cumulative_max - 1\n",
        "max_drawdown = drawdown.min()\n",
        "print(\"Maximum Drawdown:\", round(max_drawdown * 100, 2), \"%\")"
      ],
      "metadata": {
        "id": "XClTeDsaUM5E"
      },
      "execution_count": null,
      "outputs": []
    },
    {
      "cell_type": "markdown",
      "source": [
        "# Step 3. Visualize Metrics\n",
        "\n",
        "In this step, I will create visualizations to better understand the financial metrics I have calculated. Visualizing the data helps me identify trends, volatility patterns, and potential risks associated with Bitcoin.\n",
        "\n",
        "**Visualizations:**\n",
        "- Price Chart  \n",
        "- Daily Returns Plot  \n",
        "- Rolling Volatility Plot  \n",
        "- Cumulative Return Plot  \n",
        "- Histogram of Daily Returns  \n",
        "\n",
        "These visualizations are essential for understanding market behavior and communicating insights effectively."
      ],
      "metadata": {
        "id": "YVMt3CCDWERO"
      }
    },
    {
      "cell_type": "code",
      "source": [
        "plt.figure(figsize = (14,6))\n",
        "plt.plot(btc.index, btc['Close'], label = 'Bitcoin price', color = 'Blue')\n",
        "plt.title('BTC prise  USD {$}')\n",
        "plt.xlabel('Date')\n",
        "plt.ylabel('Price')\n",
        "plt.legend()\n",
        "plt.grid(True)\n",
        "plt.show()"
      ],
      "metadata": {
        "id": "GeKdnyj1WNsj"
      },
      "execution_count": null,
      "outputs": []
    },
    {
      "cell_type": "code",
      "source": [
        "plt.figure(figsize=(12, 6))\n",
        "plt.plot(btc.index, btc['Daily Return'], label='Daily Return', color='green')\n",
        "plt.axhline(0, color='black', linewidth=0.5)\n",
        "plt.title('Daily Returns (%)')\n",
        "plt.xlabel('Date')\n",
        "plt.ylabel('Daily Return (%)')\n",
        "plt.legend()\n",
        "plt.grid(True)\n",
        "plt.show()"
      ],
      "metadata": {
        "id": "d75N_88DXFHv"
      },
      "execution_count": null,
      "outputs": []
    },
    {
      "cell_type": "code",
      "source": [
        "plt.figure(figsize=(12, 6))\n",
        "plt.plot(btc.index, btc['Rolling Volatility'], label='Rolling Volatility (30-day)', color='red')\n",
        "plt.title('Rolling Volatility (30-day window)')\n",
        "plt.xlabel('Date')\n",
        "plt.ylabel('Volatility')\n",
        "plt.legend()\n",
        "plt.grid(True)\n",
        "plt.show()"
      ],
      "metadata": {
        "id": "ypBXSvJoXHxC"
      },
      "execution_count": null,
      "outputs": []
    },
    {
      "cell_type": "code",
      "source": [
        "plt.figure(figsize=(12, 6))\n",
        "plt.plot(btc.index, btc['Cumulative Return'], label='Cumulative Return', color='purple')\n",
        "plt.title('Cumulative Return')\n",
        "plt.xlabel('Date')\n",
        "plt.ylabel('Cumulative Return')\n",
        "plt.legend()\n",
        "plt.grid(True)\n",
        "plt.show()"
      ],
      "metadata": {
        "id": "4mLCzIPnXKMR"
      },
      "execution_count": null,
      "outputs": []
    },
    {
      "cell_type": "code",
      "source": [
        "plt.figure(figsize=(10, 6))\n",
        "plt.hist(btc['Daily Return'].dropna(), bins=50, color='skyblue', edgecolor='black')\n",
        "plt.title('Histogram of Daily Returns')\n",
        "plt.xlabel('Daily Return (%)')\n",
        "plt.ylabel('Frequency')\n",
        "plt.grid(True)\n",
        "plt.show()"
      ],
      "metadata": {
        "id": "Pi46KZ43XMMm"
      },
      "execution_count": null,
      "outputs": []
    },
    {
      "cell_type": "markdown",
      "source": [
        "#  Step 4. Correlation and Covariance Analysis\n",
        "\n",
        "In this step, I will analyze the relationships between the key financial metrics I have calculated. Understanding correlations and covariances helps us identify how different variables move together, which is crucial for risk management and portfolio construction.\n",
        "\n",
        "**Analysis Objectives:**\n",
        "- Calculate pairwise correlation between:\n",
        "  - Daily Return and Rolling Volatility\n",
        "  - Daily Return and Price\n",
        "  - Rolling Volatility and Price\n",
        "- Calculate covariance between selected pairs.\n",
        "- Visualize the correlations using a heatmap and scatter plots.\n",
        "\n",
        "These analyses help us understand if higher volatility is associated with higher or lower returns, and whether Bitcoin price and volatility tend to move together or separately.\n"
      ],
      "metadata": {
        "id": "RtjWguZ8Xcoc"
      }
    },
    {
      "cell_type": "code",
      "source": [
        "#before visualizing correlation matrix I 'll drop all NaN cells"
      ],
      "metadata": {
        "id": "cqKehBfHrjIQ"
      },
      "execution_count": null,
      "outputs": []
    },
    {
      "cell_type": "code",
      "source": [
        "print(btc.columns)\n",
        "print(btc.isnull().sum())"
      ],
      "metadata": {
        "id": "WJtckeUEq9zB"
      },
      "execution_count": null,
      "outputs": []
    },
    {
      "cell_type": "code",
      "source": [
        "btc_cleaned = btc.dropna()\n",
        "print(\"Cleaned shape:\", btc_cleaned.shape)"
      ],
      "metadata": {
        "id": "F5OrAbv0rtOw"
      },
      "execution_count": null,
      "outputs": []
    },
    {
      "cell_type": "code",
      "source": [
        "corr_matrix_all = btc_cleaned.corr()\n",
        "print(corr_matrix_all)"
      ],
      "metadata": {
        "id": "B1qoTBFVXeWN"
      },
      "execution_count": null,
      "outputs": []
    },
    {
      "cell_type": "code",
      "source": [
        "plt.figure(figsize=(10,8))\n",
        "sns.heatmap(corr_matrix_all, annot=True, cmap='coolwarm', fmt='.2f')\n",
        "plt.title('Correlation Heatmap (Cleaned, All Columns)')\n",
        "plt.show()"
      ],
      "metadata": {
        "id": "E4g_7dxSsNyG"
      },
      "execution_count": null,
      "outputs": []
    },
    {
      "cell_type": "markdown",
      "source": [
        " Interpretation of Correlation Matrix\n",
        "\n",
        "- **Close, High, Low, Open:** These variables show extremely high positive correlation (near 1.00). This is expected since they all reflect Bitcoin's daily price movements.\n",
        "- **Volume:** Shows a moderate correlation (~0.35) with prices. This indicates that higher prices often coincide with higher trading activity, but the relationship is not extremely strong.\n",
        "- **Daily Return & Log Return:** Very low correlation with price (~0.01–0.02). This makes sense, as returns measure relative changes rather than absolute levels.\n",
        "- **Rolling Volatility:** Very weak correlation with price (0.00), but a moderate positive correlation with volume (0.36). This suggests that volatility increases when trading activity rises.\n",
        "- **Cumulative Return:** Extremely high correlation with prices (~1.00), which is logical since it accumulates daily returns and therefore closely tracks the price trend.\n",
        "\n",
        "**Conclusion:**  \n",
        "The analysis shows that price-based metrics are strongly interconnected, while returns and volatility offer independent insights into Bitcoin's risk and performance characteristics. This highlights the importance of analyzing multiple metrics rather than relying solely on price.\n"
      ],
      "metadata": {
        "id": "Kpvjo9latiJL"
      }
    },
    {
      "cell_type": "markdown",
      "source": [
        "**Dynamic Correlation Analysis (Volatility Regimes)**\n",
        "\n",
        "Since Bitcoin is a highly volatile asset, a single correlation matrix may hide important differences between calm and turbulent market periods. To address this, we split the data into:\n",
        "- **High Volatility Periods** (Rolling Volatility > median)\n",
        "- **Low Volatility Periods** (Rolling Volatility <= median)\n",
        "\n",
        "I then calculate separate correlation matrices for each period to analyze how relationships between key metrics change during different market regimes. This analysis helps us understand the market dynamics and design more adaptive investment strategies.\n",
        "\n"
      ],
      "metadata": {
        "id": "581NInEet_1v"
      }
    },
    {
      "cell_type": "code",
      "source": [
        "median_vol = btc_cleaned['Rolling Volatility'].median()\n",
        "print(median_vol)\n",
        "\n",
        "high_vol = btc_cleaned[btc_cleaned['Rolling Volatility'] > median_vol]\n",
        "low_vol = btc_cleaned[btc_cleaned['Rolling Volatility'] <= median_vol]\n",
        "\n",
        "corr_high_vol = high_vol.corr()\n",
        "corr_low_vol = low_vol.corr()"
      ],
      "metadata": {
        "id": "aaxD_Lt7uLgk"
      },
      "execution_count": null,
      "outputs": []
    },
    {
      "cell_type": "code",
      "source": [
        "print(\"High Volatility Periods:\", high_vol.shape[0])\n",
        "print(\"Low Volatility Periods:\", low_vol.shape[0])"
      ],
      "metadata": {
        "id": "3puHD5NUvx5g"
      },
      "execution_count": null,
      "outputs": []
    },
    {
      "cell_type": "code",
      "source": [
        "print(\"Correlation High Volatility: \\n\", corr_high_vol)\n",
        "plt.figure(figsize=(10, 8))\n",
        "sns.heatmap(corr_high_vol, annot=True, cmap='coolwarm', fmt='.2f')\n",
        "plt.title('Correlation Heatmap - High Volatility Periods')\n",
        "plt.show()"
      ],
      "metadata": {
        "id": "w7n-uT03vDs0"
      },
      "execution_count": null,
      "outputs": []
    },
    {
      "cell_type": "code",
      "source": [
        "print(\"Correlation Low Volatility: \\n\",corr_low_vol)\n",
        "plt.figure(figsize=(10, 8))\n",
        "sns.heatmap(corr_low_vol, annot=True, cmap='coolwarm', fmt='.2f')\n",
        "plt.title('Correlation Heatmap - Low Volatility Periods')\n",
        "plt.show()"
      ],
      "metadata": {
        "id": "HZuWi45kvqby"
      },
      "execution_count": null,
      "outputs": []
    },
    {
      "cell_type": "markdown",
      "source": [
        "Interpretation of Dynamic Correlation Analysis\n",
        "\n",
        "**High Volatility Periods:**  \n",
        "- Prices (Close, High, Low, Open) are still highly correlated (~1.00).\n",
        "- Volume shows a weak positive correlation. This suggests that during volatile periods, increased trading volume might coincide with declining prices and higher risk.\n",
        "\n",
        "- Daily Return and Log Return exhibit almost no correlation with price and a slight negative correlation with Rolling Volatility, indicating that daily fluctuations do not consistently align with volatility spikes.\n",
        "\n",
        "**Low Volatility Periods:**  \n",
        "- Prices remain highly correlated (~1.00).\n",
        "- Volume shows a stronger positive correlation with price (~0.53), reflecting that in stable periods, rising prices often coincide with increased trading activity.\n",
        "- Rolling Volatility demonstrates a slight positive correlation (~0.16) with price, indicating that small price changes can still generate noticeable volatility even in calm markets.\n",
        "- Daily Return and Log Return continue to show near-zero correlation with price, consistent with the stable market environment.\n",
        "\n",
        "**Conclusion:**  \n",
        "This dynamic analysis shows that Bitcoin's market structure changes significantly between high and low volatility periods. Understanding these differences helps investors and traders design more adaptive strategies, adjust risk management approaches, and better anticipate market behavior during different regimes.\n"
      ],
      "metadata": {
        "id": "Sm42Tr9FwjoT"
      }
    },
    {
      "cell_type": "markdown",
      "source": [
        "#Step 5: Advanced Financial Analysis"
      ],
      "metadata": {
        "id": "j2idmXzJzwo1"
      }
    },
    {
      "cell_type": "markdown",
      "source": [
        "\n",
        "\n",
        ">\n",
        "\n",
        "In this step, I explore advanced analytical methods to deepen our understanding of Bitcoin's market behavior. I apply risk management models, volatility modeling, time series analysis, and other advanced techniques to provide insights that go beyond basic descriptive statistics.\n",
        "\n",
        "**Potential Analyses:**\n",
        "- Value at Risk (VaR) and Conditional VaR (CVaR)\n",
        "- GARCH Modeling for volatility forecasting\n",
        "- Autocorrelation analysis (ACF/PACF)\n",
        "- ARIMA/Prophet forecasting\n",
        "- Monte Carlo simulation\n",
        "- Clustering market regimes based on volatility\n",
        "- Cross-asset correlation analysis\n",
        "- Drawdown analysis and risk metrics\n",
        "- Sharpe Ratio dynamics over time\n",
        "\n",
        "Each of these analyses enhances our ability to understand, predict, and manage Bitcoin's market risk, making this project a comprehensive case study in financial data analysis.\n",
        "\n",
        "\n"
      ],
      "metadata": {
        "id": "CIrGJPMx0gzw"
      }
    },
    {
      "cell_type": "markdown",
      "source": [
        "##Value at Risk (VaR),  Conditional VaR (CVaR)"
      ],
      "metadata": {
        "id": "TBHPVhPnzzjT"
      }
    },
    {
      "cell_type": "markdown",
      "source": [
        "\n",
        "**Value at Risk (VaR)** is a risk measure that estimates the maximum potential loss of an investment over a specified time period, given a certain confidence level. For example, a 95% one-day VaR of 5% means there is a 95% chance that the investment will not lose more than 5% of its value in a single day.\n",
        "\n",
        "**Conditional Value at Risk (CVaR)**, also known as Expected Shortfall, represents the **average loss** that exceeds the VaR threshold. It answers the question: \"If the loss exceeds the VaR level, how bad could it get on average?\"\n",
        "\n"
      ],
      "metadata": {
        "id": "_9tB6WMM0_ZH"
      }
    },
    {
      "cell_type": "code",
      "source": [
        "confidence_level = 0.95\n",
        "daily_returns = btc_cleaned['Daily Return'].dropna()\n",
        "\n",
        "#Historical VaR\n",
        "VaR = np.percentile(daily_returns, (1-confidence_level) * 100)\n",
        "\n",
        "#Conditional VaR - CVaR. - we use it becouse daily return chart looks like normal destribution - bell-shaped - it was visualized previously\n",
        "CVaR = daily_returns[daily_returns <= VaR].mean()\n",
        "\n",
        "\n",
        "print(f\"Value at Risk (VaR) at {int(confidence_level*100)}% confidence: {VaR:.2f}%\")\n",
        "print(f\"Conditional Value at Risk (CVaR) at {int(confidence_level*100)}% confidence: {CVaR:.2f}%\")"
      ],
      "metadata": {
        "id": "Ab1VjzfN0-gD"
      },
      "execution_count": null,
      "outputs": []
    },
    {
      "cell_type": "code",
      "source": [
        "from scipy.stats import norm\n",
        "\n",
        "plt.figure(figsize=(10,6))\n",
        "sns.histplot(daily_returns, bins=50, kde=True, color='skyblue', stat='density', label='Histogram of Daily Returns')\n",
        "mean = daily_returns.mean()\n",
        "std = daily_returns.std()\n",
        "xmin, xmax = plt.xlim()\n",
        "x = np.linspace(xmin, xmax, 100)\n",
        "p = norm.pdf(x, mean, std)\n",
        "plt.plot(x, p, 'r', linewidth=2, label='Normal Distribution')\n",
        "plt.xlabel('Daily Return (%)')\n",
        "plt.ylabel('Density')\n",
        "plt.legend()\n",
        "plt.title('Histogram of Daily Returns with Normal Distribution Overlay')\n",
        "plt.show()\n"
      ],
      "metadata": {
        "id": "Djxdxlsc28kr"
      },
      "execution_count": null,
      "outputs": []
    },
    {
      "cell_type": "markdown",
      "source": [
        "## Volatility Modeling (GARCH)"
      ],
      "metadata": {
        "id": "SsqbPgTzz0xd"
      }
    },
    {
      "cell_type": "code",
      "source": [
        "!pip install arch\n",
        "from arch import arch_model\n",
        "print(arch_model)"
      ],
      "metadata": {
        "id": "wpWTANaY3v26"
      },
      "execution_count": null,
      "outputs": []
    },
    {
      "cell_type": "markdown",
      "source": [
        "Volatility Modeling using GARCH\n",
        "\n",
        "Financial time series often exhibit volatility clustering — periods of high volatility tend to cluster together. The GARCH (Generalized Autoregressive Conditional Heteroskedasticity) model captures this feature by modeling the current volatility as a function of both past squared returns (shocks) and past volatility.\n",
        "\n",
        "**Why GARCH?**\n",
        "- Financial assets, especially cryptocurrencies, are known for periods of market turbulence.\n",
        "- GARCH models help estimate and forecast volatility, which is crucial for risk management and strategy development.\n",
        "\n",
        "In this section, I apply a GARCH(1,1) model to Bitcoin's daily returns to understand its volatility dynamics.\n"
      ],
      "metadata": {
        "id": "Set4ohZ94CDi"
      }
    },
    {
      "cell_type": "code",
      "source": [
        "returns = btc_cleaned['Daily Return'].dropna()"
      ],
      "metadata": {
        "id": "lkwqAwte4eMy"
      },
      "execution_count": null,
      "outputs": []
    },
    {
      "cell_type": "code",
      "source": [
        "model = arch_model(returns, vol = 'Garch', p=1, q=1, dist='normal')\n",
        "garch_fit = model.fit(disp='off')\n",
        "\n",
        "print(garch_fit.summary())"
      ],
      "metadata": {
        "id": "lT40LSH_4poM"
      },
      "execution_count": null,
      "outputs": []
    },
    {
      "cell_type": "code",
      "source": [
        "forecast = garch_fit.forecast(horizon =5)\n",
        "print(forecast.variance[-1:])"
      ],
      "metadata": {
        "id": "B9T95kNO5GNS"
      },
      "execution_count": null,
      "outputs": []
    },
    {
      "cell_type": "markdown",
      "source": [
        "Interpretation of GARCH(1,1) Results\n",
        "\n",
        "The GARCH(1,1) model provides valuable insights into Bitcoin's volatility dynamics:\n",
        "\n",
        "- **omega (0.3548):** This is the long-term volatility level. A higher value indicates a relatively unstable market environment.\n",
        "- **alpha (0.0635):** This parameter measures the impact of recent shocks on volatility. A moderate value suggests that sudden events moderately influence daily volatility.\n",
        "- **beta (0.9017):** This parameter reflects volatility persistence. A high value close to 1 means that shocks to volatility are long-lasting, and the market takes time to return to normal levels.\n",
        "\n",
        "Since (alpha + beta) ≈ 0.965, we conclude that Bitcoin's volatility is highly persistent. This is typical for financial time series, especially for cryptocurrencies.\n",
        "\n",
        "**Volatility Forecast:**\n",
        "Using the fitted model, we forecasted volatility for the next 5 days. The forecast shows a slight upward trend, indicating a possible increase in risk in the near term. This information is valuable for risk management and portfolio allocation.\n"
      ],
      "metadata": {
        "id": "YH19-dns5rCz"
      }
    },
    {
      "cell_type": "markdown",
      "source": [
        "\n",
        "\n",
        ">i will split the data into train and test to analyze efficiency of the forecasting\n",
        "\n"
      ],
      "metadata": {
        "id": "b_QO5r_q6hek"
      }
    },
    {
      "cell_type": "code",
      "source": [
        "split = int(len(returns) * 0.8)\n",
        "train = returns[:split]\n",
        "test = returns[split:]"
      ],
      "metadata": {
        "id": "5e2LyDIQ6vVd"
      },
      "execution_count": null,
      "outputs": []
    },
    {
      "cell_type": "code",
      "source": [
        "model = arch_model(train, vol='Garch', p=1, q=1, dist='normal')\n",
        "garch_fit = model.fit(disp='off')"
      ],
      "metadata": {
        "id": "j0BqwdP46777"
      },
      "execution_count": null,
      "outputs": []
    },
    {
      "cell_type": "code",
      "source": [
        "test_forecasts = []\n",
        "for i in range(len(test)):\n",
        "    data_until_now = returns[:split + i]\n",
        "    model = arch_model(data_until_now, vol='Garch', p=1, q=1, dist='normal')\n",
        "    garch_fit = model.fit(disp='off')\n",
        "    forecast = garch_fit.forecast(horizon=1)\n",
        "    pred_vol = np.sqrt(forecast.variance.values[-1, :][0])\n",
        "    test_forecasts.append(pred_vol)\n"
      ],
      "metadata": {
        "id": "9JAufRWb7Bb7"
      },
      "execution_count": null,
      "outputs": []
    },
    {
      "cell_type": "code",
      "source": [
        "plt.figure(figsize=(12,6))\n",
        "plt.plot(test.index, btc_cleaned.loc[test.index, 'Rolling Volatility'], label='Rolling Volatility', color='blue')\n",
        "plt.plot(test.index, test_forecasts, label='GARCH(1,1) Forecast', color='red')\n",
        "plt.xlabel('Date')\n",
        "plt.ylabel('Volatility')\n",
        "plt.legend()\n",
        "plt.title('GARCH(1,1) Forecast vs. Historical Volatility (Test Set)')\n",
        "plt.grid(True)\n",
        "plt.show()\n"
      ],
      "metadata": {
        "id": "HO-mrXwz7HEZ"
      },
      "execution_count": null,
      "outputs": []
    },
    {
      "cell_type": "code",
      "source": [
        "from sklearn.metrics import mean_squared_error\n",
        "\n",
        "actual_vol = btc_cleaned.loc[test.index, 'Rolling Volatility']\n",
        "mse = mean_squared_error(actual_vol, test_forecasts)\n",
        "print(f\"Mean Squared Error of GARCH Forecast: {mse:.4f}\")\n"
      ],
      "metadata": {
        "id": "-Ndh4Mvm7KZs"
      },
      "execution_count": null,
      "outputs": []
    },
    {
      "cell_type": "markdown",
      "source": [
        "i will try use t-distribution to make MSE smaller"
      ],
      "metadata": {
        "id": "r5AaHBHR7dNH"
      }
    },
    {
      "cell_type": "code",
      "source": [
        "model = arch_model(train, vol='Garch', p=1, q=1, dist='t')"
      ],
      "metadata": {
        "id": "dvYO6Dbd7kbU"
      },
      "execution_count": null,
      "outputs": []
    },
    {
      "cell_type": "code",
      "source": [
        "model = arch_model(train, vol='EGarch', p=1, q=1, dist='t')\n",
        "model = arch_model(train, vol='Garch', p=2, q=1, dist='t')"
      ],
      "metadata": {
        "id": "Ri4oRQWe7nNs"
      },
      "execution_count": null,
      "outputs": []
    },
    {
      "cell_type": "code",
      "source": [
        "\n",
        "test_forecasts_t = []\n",
        "for i in range(len(test)):\n",
        "\n",
        "    data_until_now = returns[:split + i]\n",
        "\n",
        "    model_t = arch_model(data_until_now, vol='Garch', p=1, q=1, dist='t')\n",
        "\n",
        "    garch_fit_t = model_t.fit(disp='off')\n",
        "\n",
        "\n",
        "    forecast_t = garch_fit_t.forecast(horizon=1)\n",
        "\n",
        "    pred_vol_t = np.sqrt(forecast_t.variance.values[-1, :][0])\n",
        "\n",
        "\n",
        "    test_forecasts_t.append(pred_vol_t)\n"
      ],
      "metadata": {
        "id": "GWSZGHFk8iCj"
      },
      "execution_count": null,
      "outputs": []
    },
    {
      "cell_type": "code",
      "source": [
        "test_forecasts_egarch = []\n",
        "for i in range(len(test)):\n",
        "    data_until_now = returns[:split + i]\n",
        "    model_egarch = arch_model(data_until_now, vol='EGarch', p=1, q=1, dist='t')\n",
        "    garch_fit_egarch = model_egarch.fit(disp='off')\n",
        "    forecast_egarch = garch_fit_egarch.forecast(horizon=1)\n",
        "    pred_vol_egarch = np.sqrt(forecast_egarch.variance.values[-1, :][0])\n",
        "    test_forecasts_egarch.append(pred_vol_egarch)\n"
      ],
      "metadata": {
        "id": "C-M5mwyW8WRh"
      },
      "execution_count": null,
      "outputs": []
    },
    {
      "cell_type": "code",
      "source": [
        "test_forecasts_garch21 = []\n",
        "for i in range(len(test)):\n",
        "    data_until_now = returns[:split + i]\n",
        "    model_garch21 = arch_model(data_until_now, vol='Garch', p=2, q=1, dist='t')\n",
        "    garch_fit_garch21 = model_garch21.fit(disp='off')\n",
        "    forecast_garch21 = garch_fit_garch21.forecast(horizon=1)\n",
        "    pred_vol_garch21 = np.sqrt(forecast_garch21.variance.values[-1, :][0])\n",
        "    test_forecasts_garch21.append(pred_vol_garch21)\n"
      ],
      "metadata": {
        "id": "yojhElf_9EUo"
      },
      "execution_count": null,
      "outputs": []
    },
    {
      "cell_type": "code",
      "source": [
        "actual_vol = btc_cleaned.loc[test.index, 'Rolling Volatility']\n",
        "\n",
        "mse_t = mean_squared_error(actual_vol, test_forecasts_t)\n",
        "mse_egarch = mean_squared_error(actual_vol, test_forecasts_egarch)\n",
        "mse_garch21 = mean_squared_error(actual_vol, test_forecasts_garch21)\n",
        "\n",
        "print(f\"Mean Squared Error of GARCH Forecast (t-distribution): {mse_t:.4f}\")\n",
        "print(f\"Mean Squared Error of EGARCH Forecast (t-distribution): {mse_egarch:.4f}\")\n",
        "print(f\"Mean Squared Error of GARCH(2,1) Forecast (t-distribution): {mse_garch21:.4f}\")\n"
      ],
      "metadata": {
        "id": "VYUnn3Fp9Mwl"
      },
      "execution_count": null,
      "outputs": []
    },
    {
      "cell_type": "code",
      "source": [
        "plt.figure(figsize=(12,6))\n",
        "plt.plot(test.index, actual_vol, label='Rolling Volatility', color='blue')\n",
        "plt.plot(test.index, test_forecasts_t, label='GARCH(1,1) Forecast (t)', color='green')\n",
        "\n",
        "plt.xlabel('Date')\n",
        "plt.ylabel('Volatility')\n",
        "plt.legend()\n",
        "plt.title('GARCH-based Forecasts vs. Historical Volatility (Test Set)')\n",
        "plt.grid(True)\n",
        "plt.show()\n"
      ],
      "metadata": {
        "id": "PRfEfjRL9QlV"
      },
      "execution_count": null,
      "outputs": []
    },
    {
      "cell_type": "markdown",
      "source": [
        "After implementing various volatility models — GARCH(1,1) with normal and t-distribution and GARCH(2,1) — the mean squared errors (MSE) were consistently in the range of 0.22–0.25. EGARCH = 0.58.\n"
      ],
      "metadata": {
        "id": "KfENVHG7-AZC"
      }
    },
    {
      "cell_type": "markdown",
      "source": [
        "## ARIMA / Time Series Forecasting"
      ],
      "metadata": {
        "id": "LEvjkj7b0Imw"
      }
    },
    {
      "cell_type": "code",
      "source": [
        "#checking stationarity\n",
        "#ADF Test\n",
        "from statsmodels.tsa.stattools import adfuller\n",
        "\n",
        "result = adfuller(btc_cleaned['Close'].dropna())\n",
        "print(f'ADF Statistics: {result[0]}')\n",
        "print(f'p-value: {result[1]}')\n",
        "\n",
        "if result[1] <= 0.05:\n",
        "  print(\"Series is stationary.\")\n",
        "else:\n",
        "  print(\"Series is NOT stationary.\")"
      ],
      "metadata": {
        "id": "eRmvYugPNyqS"
      },
      "execution_count": null,
      "outputs": []
    },
    {
      "cell_type": "code",
      "source": [
        "btc_diff = btc_cleaned['Close'].diff().dropna()"
      ],
      "metadata": {
        "id": "hvvlL2fLOqW3"
      },
      "execution_count": null,
      "outputs": []
    },
    {
      "cell_type": "code",
      "source": [
        "result_diff = adfuller(btc_diff)\n",
        "print(f'ADF Statistic (Diff): {result_diff[0]}')\n",
        "print(f'p-value (Diff): {result_diff[1]}')"
      ],
      "metadata": {
        "id": "1qgfqUzFOsuF"
      },
      "execution_count": null,
      "outputs": []
    },
    {
      "cell_type": "markdown",
      "source": [
        "# Stationarity Testing\n",
        "\n",
        "Before applying the ARIMA model, I tested the Bitcoin price time series for stationarity using the Augmented Dickey-Fuller (ADF) test.\n",
        "\n",
        "The results indicate that the BTC price series exhibits a trend and is non-stationary in its raw form. After applying a first-order difference, I achieved stationarity, which is a necessary condition for using ARIMA models effectively."
      ],
      "metadata": {
        "id": "_K0-pSVuO8Mf"
      }
    },
    {
      "cell_type": "code",
      "source": [
        "from statsmodels.tsa.arima.model import ARIMA\n",
        "\n",
        "model = ARIMA(btc_cleaned['Close'], order=(1,1,1))\n",
        "arima_fit = model.fit()\n",
        "print(arima_fit.summary())"
      ],
      "metadata": {
        "id": "V33z-XKCPCnR"
      },
      "execution_count": null,
      "outputs": []
    },
    {
      "cell_type": "code",
      "source": [
        "forecast_steps = 5\n",
        "forecast = arima_fit.forecast(steps=forecast_steps)\n",
        "print(forecast)"
      ],
      "metadata": {
        "id": "gpS4hgWxPHAq"
      },
      "execution_count": null,
      "outputs": []
    },
    {
      "cell_type": "markdown",
      "source": [
        "ARIMA Forecast Results\n",
        "\n",
        "The ARIMA(1,1,1) model was applied to forecast Bitcoin prices for the next 5 days.\n",
        "\n",
        "The ARIMA(1,1,1) model indicates that prices are expected to remain relatively stable over the next few days.\n",
        "\n",
        "**Important notes:**\n",
        "- ARIMA captures the trend and autoregressive structure in the series but does not account for volatility clustering or external factors.\n",
        "- This model is useful for short-term trend forecasting but should be complemented with risk models such as GARCH for a more comprehensive financial analysis.\n",
        "\n"
      ],
      "metadata": {
        "id": "aniJVTbiPWSS"
      }
    },
    {
      "cell_type": "code",
      "source": [
        "plt.figure(figsize=(12,6))\n",
        "plt.plot(btc_cleaned['Close'], label='Historical BTC Price', color='blue')\n",
        "plt.plot(forecast.index, forecast, label='ARIMA Forecast', color='red')\n",
        "plt.xlabel('Date')\n",
        "plt.ylabel('BTC Price')\n",
        "plt.legend()\n",
        "plt.title('ARIMA(1,1,1) Forecast of BTC Price')\n",
        "plt.grid(True)\n",
        "plt.show()"
      ],
      "metadata": {
        "id": "hjEH6Lc1PdjM"
      },
      "execution_count": null,
      "outputs": []
    },
    {
      "cell_type": "markdown",
      "source": [
        "comparing forecasted and historical prices"
      ],
      "metadata": {
        "id": "0g6FPRZ4QEeR"
      }
    },
    {
      "cell_type": "code",
      "source": [
        "start_date = '2024-01-01'\n",
        "end_date = '2025-01-01'\n",
        "btc_test_period = btc_cleaned.loc[start_date:end_date, 'Close']"
      ],
      "metadata": {
        "id": "h3n3mM6gQEKH"
      },
      "execution_count": null,
      "outputs": []
    },
    {
      "cell_type": "code",
      "source": [
        "btc_returns = btc_test_period.pct_change().dropna() * 100\n",
        "historical_std = btc_returns.std()\n",
        "print(f\"Historical daily standard deviation: {historical_std:.2f}%\")"
      ],
      "metadata": {
        "id": "Bmxbay50QNMi"
      },
      "execution_count": null,
      "outputs": []
    },
    {
      "cell_type": "markdown",
      "source": [
        "To evaluate the reasonableness of the ARIMA(1,1,1) forecast, we compared the model’s forecasted standard deviation to the actual historical volatility observed in the BTC price from January 2024 to January 2025.\n",
        "\n",
        "**Interpretation:**  \n",
        "- At the start of the forecast horizon, the ARIMA model predicts a standard deviation close to historical volatility, indicating reasonable confidence in short-term forecasts.\n",
        "- As the forecast horizon extends, the standard deviation grows to ~5% of the price, reflecting increasing uncertainty — which is typical for ARIMA models and time series forecasting in general.\n",
        "\n",
        "This comparison helps validate the ARIMA model’s risk estimates and demonstrates its practical application in financial time series analysis.\n"
      ],
      "metadata": {
        "id": "mujrQT2IQpXG"
      }
    },
    {
      "cell_type": "markdown",
      "source": [
        "##Monte Carlo Simulation"
      ],
      "metadata": {
        "id": "F0iB_RVH0JZN"
      }
    },
    {
      "cell_type": "code",
      "source": [
        "btc_returns = btc_cleaned['Close'].pct_change().dropna()\n",
        "mu = btc_returns.mean()\n",
        "sigma = btc_returns.std()"
      ],
      "metadata": {
        "id": "lyr0WWV6Q1Ep"
      },
      "execution_count": null,
      "outputs": []
    },
    {
      "cell_type": "code",
      "source": [
        "forecast_days = 30\n",
        "simulations = 1000"
      ],
      "metadata": {
        "id": "npK487TRQ6Fu"
      },
      "execution_count": null,
      "outputs": []
    },
    {
      "cell_type": "code",
      "source": [
        "np.random.seed(42)\n",
        "simulated_paths = []\n",
        "\n",
        "for i in range(simulations):\n",
        "    random_returns = np.random.normal(mu, sigma, forecast_days)\n",
        "    path = [btc_cleaned['Close'].iloc[-1]]\n",
        "    for r in random_returns:\n",
        "        path.append(path[-1] * (1 + r))\n",
        "    simulated_paths.append(path)"
      ],
      "metadata": {
        "id": "z1ecsxA3Q8AB"
      },
      "execution_count": null,
      "outputs": []
    },
    {
      "cell_type": "code",
      "source": [
        "plt.figure(figsize=(12,6))\n",
        "for path in simulated_paths[:20]:\n",
        "    plt.plot(path, alpha=0.3)\n",
        "plt.xlabel('Days')\n",
        "plt.ylabel('BTC Price')\n",
        "plt.title('Monte Carlo Simulation of BTC Price')\n",
        "plt.grid(True)\n",
        "plt.show()"
      ],
      "metadata": {
        "id": "OyKOmjZKRADL"
      },
      "execution_count": null,
      "outputs": []
    },
    {
      "cell_type": "code",
      "source": [
        "simulated_paths = np.array(simulated_paths)\n",
        "median_path = np.median(simulated_paths, axis=0)"
      ],
      "metadata": {
        "id": "ISli2JKVRTKa"
      },
      "execution_count": null,
      "outputs": []
    },
    {
      "cell_type": "code",
      "source": [
        "lower_bound = np.percentile(simulated_paths, 5, axis=0)\n",
        "upper_bound = np.percentile(simulated_paths, 95, axis=0)"
      ],
      "metadata": {
        "id": "RzePaE3rRVSZ"
      },
      "execution_count": null,
      "outputs": []
    },
    {
      "cell_type": "code",
      "source": [
        "final_prices = simulated_paths[:, -1]\n",
        "current_price = btc_cleaned['Close'].iloc[-1]\n",
        "probability_loss = np.mean(final_prices < current_price) * 100\n",
        "print(f\"Probability of loss: {probability_loss:.2f}%\")"
      ],
      "metadata": {
        "id": "kY5RmsjLRXPz"
      },
      "execution_count": null,
      "outputs": []
    },
    {
      "cell_type": "code",
      "source": [
        "plt.figure(figsize=(12,6))\n",
        "for i in range(100):\n",
        "    plt.plot(simulated_paths[i], color='grey', alpha=0.2)\n",
        "plt.plot(median_path, color='blue', label='Median Path')\n",
        "plt.plot(lower_bound, color='red', linestyle='--', label='5% Percentile')\n",
        "plt.plot(upper_bound, color='green', linestyle='--', label='95% Percentile')\n",
        "plt.xlabel('Days')\n",
        "plt.ylabel('BTC Price')\n",
        "plt.title('Monte Carlo Simulation of BTC Price')\n",
        "plt.legend()\n",
        "plt.grid(True)\n",
        "plt.show()"
      ],
      "metadata": {
        "id": "uC57xKwzRbmw"
      },
      "execution_count": null,
      "outputs": []
    },
    {
      "cell_type": "markdown",
      "source": [
        "# Monte Carlo Simulation Analysis\n",
        "\n",
        "After generating 1000 scenarios of BTC price trajectories, I analyzed the results using key statistics:\n",
        "\n",
        "- **Median Path:** Represents the 50% probability scenario.\n",
        "- **5%–95% Confidence Interval:** Indicates the range of likely outcomes, providing insight into potential risk.\n",
        "- **Probability of Loss:** I calculated the probability that BTC price will be below the current price at the end of the forecast horizon.\n",
        "\n",
        "This analysis helps me understand the uncertainty and risk associated with BTC price forecasts, especially in the context of long-term holding strategies."
      ],
      "metadata": {
        "id": "5uAUIQksRfIf"
      }
    },
    {
      "cell_type": "markdown",
      "source": [
        "## Clustering Volatility Regimes"
      ],
      "metadata": {
        "id": "sxTO0Fb10UOa"
      }
    },
    {
      "cell_type": "code",
      "source": [
        "btc_cleaned.loc[:, 'Rolling Volatility'] = btc_cleaned['Close'].pct_change().rolling(window=30).std() * 100"
      ],
      "metadata": {
        "id": "lgos3ofJjDlp"
      },
      "execution_count": null,
      "outputs": []
    },
    {
      "cell_type": "code",
      "source": [
        "from sklearn.cluster import KMeans\n",
        "\n",
        "volatility = btc_cleaned[['Rolling Volatility']].dropna()\n",
        "kmeans = KMeans(n_clusters=3, random_state=42)\n",
        "clusters = kmeans.fit_predict(volatility)"
      ],
      "metadata": {
        "id": "nOtxPx-KjGiv"
      },
      "execution_count": null,
      "outputs": []
    },
    {
      "cell_type": "code",
      "source": [
        "btc_cleaned.loc[volatility.index, 'Volatility Regime'] = clusters"
      ],
      "metadata": {
        "id": "MvCJDZdDjJoy"
      },
      "execution_count": null,
      "outputs": []
    },
    {
      "cell_type": "code",
      "source": [
        "btc_cleaned = btc_cleaned.copy()\n",
        "btc_cleaned.loc[volatility.index, 'Volatility Regime'] = clusters"
      ],
      "metadata": {
        "id": "sYBRFATqjOvC"
      },
      "execution_count": null,
      "outputs": []
    },
    {
      "cell_type": "code",
      "source": [
        "plt.figure(figsize=(12,6))\n",
        "plt.plot(btc_cleaned['Close'], label='BTC Price', color='grey', alpha=0.5)\n",
        "for regime in sorted(btc_cleaned['Volatility Regime'].dropna().unique()):\n",
        "    plt.scatter(btc_cleaned.loc[btc_cleaned['Volatility Regime'] == regime].index,\n",
        "                btc_cleaned.loc[btc_cleaned['Volatility Regime'] == regime]['Close'],\n",
        "                label=f'Regime {regime}', s=10)\n",
        "plt.xlabel('Date')\n",
        "plt.ylabel('BTC Price')\n",
        "plt.title('BTC Price with Volatility Regimes')\n",
        "plt.legend()\n",
        "plt.grid(True)\n",
        "plt.show()"
      ],
      "metadata": {
        "id": "vw-7CN2JjU39"
      },
      "execution_count": null,
      "outputs": []
    },
    {
      "cell_type": "markdown",
      "source": [
        "Visualization of Volatility Regimes\n",
        "\n",
        "We visualized BTC price colored by volatility regime. This allows us to see which periods were calm (low volatility) and which were turbulent (high volatility).\n",
        "\n",
        "- **Regime 0:** Stable, low volatility\n",
        "- **Regime 1:** Moderate volatility\n",
        "- **Regime 2:** High volatility\n",
        "\n",
        "This analysis provides insights into how volatility clustering occurs in the crypto market and supports risk management decisions.\n"
      ],
      "metadata": {
        "id": "8N9NGVvbj4qA"
      }
    },
    {
      "cell_type": "code",
      "source": [
        "volatility_stats = btc_cleaned.groupby('Volatility Regime')['Rolling Volatility'].mean()\n",
        "print(volatility_stats)"
      ],
      "metadata": {
        "id": "gR7qVTf1kCrN"
      },
      "execution_count": null,
      "outputs": []
    },
    {
      "cell_type": "code",
      "source": [
        "plt.figure(figsize=(8,5))\n",
        "sns.countplot(x='Volatility Regime', data=btc_cleaned)\n",
        "plt.title('Number of Days in Each Volatility Regime')\n",
        "plt.xlabel('Volatility Regime')\n",
        "plt.ylabel('Number of Days')\n",
        "plt.grid(True, axis='y', linestyle='--', alpha=0.7)\n",
        "plt.show()"
      ],
      "metadata": {
        "id": "ZS0C6REIkLJS"
      },
      "execution_count": null,
      "outputs": []
    },
    {
      "cell_type": "markdown",
      "source": [
        "Volatility regime 2 consistently exhibits the highest risk periods, while regime 1 is the calmest. Regime 0 may indicate transitional phases between calm and turbulent markets."
      ],
      "metadata": {
        "id": "kyITtl7xkdoQ"
      }
    },
    {
      "cell_type": "markdown",
      "source": [
        "## Cross-Asset Correlations"
      ],
      "metadata": {
        "id": "bnIjjP6w0Wyj"
      }
    },
    {
      "cell_type": "code",
      "source": [
        "import yfinance as yf\n",
        "\n",
        "# BTC and ETH\n",
        "btc = yf.download('BTC-USD', start='2014-01-01')\n",
        "eth = yf.download('ETH-USD', start='2014-01-01')\n",
        "\n",
        "# S&P500\n",
        "sp500 = yf.download('^GSPC', start='2014-01-01')"
      ],
      "metadata": {
        "id": "3KDljn99lCYf",
        "collapsed": true
      },
      "execution_count": null,
      "outputs": []
    },
    {
      "cell_type": "code",
      "source": [
        "from pandas_datareader import data as pdr\n",
        "import datetime\n",
        "\n",
        "start_date = datetime.datetime(2014,1,1)\n",
        "end_date = datetime.datetime(2025,6,10)\n",
        "\n",
        "cpi = pdr.DataReader('CPIAUCNS', 'fred', start_date, end_date)"
      ],
      "metadata": {
        "id": "1de_9lBolFjI"
      },
      "execution_count": null,
      "outputs": []
    },
    {
      "cell_type": "code",
      "source": [
        "cpi_daily = cpi.resample('D').ffill()"
      ],
      "metadata": {
        "id": "RGaxlOjDlIha"
      },
      "execution_count": null,
      "outputs": []
    },
    {
      "cell_type": "code",
      "source": [
        "\n",
        "btc.columns = btc.columns.get_level_values(0)\n",
        "eth.columns = eth.columns.get_level_values(0)\n",
        "sp500.columns = sp500.columns.get_level_values(0)\n",
        "\n",
        "\n",
        "btc_close = btc['Close'].rename('BTC')\n",
        "eth_close = eth['Close'].rename('ETH')\n",
        "sp500_close = sp500['Close'].rename('S&P500')\n",
        "cpi_close = cpi_daily['CPIAUCNS'].rename('CPI')\n",
        "\n",
        "combined = pd.concat([btc_close, eth_close, sp500_close, cpi_close], axis=1)\n"
      ],
      "metadata": {
        "id": "sAW4j8thlKe0"
      },
      "execution_count": null,
      "outputs": []
    },
    {
      "cell_type": "code",
      "source": [
        "returns = combined.pct_change().dropna() * 100\n",
        "corr_matrix = returns.corr()\n",
        "print(corr_matrix)"
      ],
      "metadata": {
        "id": "RWgz_c2JlqnX"
      },
      "execution_count": null,
      "outputs": []
    },
    {
      "cell_type": "code",
      "source": [
        "import seaborn as sns\n",
        "import matplotlib.pyplot as plt\n",
        "\n",
        "plt.figure(figsize=(10,8))\n",
        "sns.heatmap(corr_matrix, annot=True, cmap='coolwarm', fmt='.2f')\n",
        "plt.title('Cross-Asset Correlation Matrix')\n",
        "plt.show()"
      ],
      "metadata": {
        "id": "myqECXgslvrF"
      },
      "execution_count": null,
      "outputs": []
    },
    {
      "cell_type": "markdown",
      "source": [
        "The results were visualized using a heatmap for better interpretation."
      ],
      "metadata": {
        "id": "SXz3cRTal6Fv"
      }
    },
    {
      "cell_type": "markdown",
      "source": [
        "Interpretation of Cross-Asset Correlations\n",
        "\n",
        "The correlation analysis reveals that:\n",
        "- BTC and ETH exhibit a strong positive correlation (0.78), indicating that they often move together.\n",
        "- BTC and S&P500 show a weak positive correlation (0.26), suggesting that BTC still retains some diversification potential against the equity market.\n",
        "- CPI shows almost no correlation with BTC, ETH, or S&P500 on daily returns, highlighting that short-term crypto movements are less influenced by inflation shocks.\n",
        "\n",
        "This analysis emphasizes the need for careful portfolio construction when combining crypto with traditional assets.\n"
      ],
      "metadata": {
        "id": "jdy_qie4mAxf"
      }
    },
    {
      "cell_type": "markdown",
      "source": [
        "##Drawdown Analysis"
      ],
      "metadata": {
        "id": "61D3jMov0aTZ"
      }
    },
    {
      "cell_type": "code",
      "source": [
        "btc_cleaned['Cumulative Return'] = (1 + btc_cleaned['Daily Return']/100).cumprod()\n",
        "btc_cleaned['Running Max'] = btc_cleaned['Cumulative Return'].cummax()\n",
        "btc_cleaned['Drawdown'] = (btc_cleaned['Cumulative Return'] - btc_cleaned['Running Max']) / btc_cleaned['Running Max'] * 100"
      ],
      "metadata": {
        "id": "xV9Un7ZmmIG-"
      },
      "execution_count": null,
      "outputs": []
    },
    {
      "cell_type": "code",
      "source": [
        "max_drawdown = btc_cleaned['Drawdown'].min()\n",
        "print(f\"Maximum Drawdown: {max_drawdown:.2f}%\")"
      ],
      "metadata": {
        "id": "-FRVNGgdmXvx"
      },
      "execution_count": null,
      "outputs": []
    },
    {
      "cell_type": "code",
      "source": [
        "\n",
        "\n",
        "plt.figure(figsize=(12,6))\n",
        "plt.plot(btc_cleaned.index, btc_cleaned['Drawdown'], color='red', label='Drawdown')\n",
        "plt.title('Bitcoin Drawdown Analysis')\n",
        "plt.xlabel('Date')\n",
        "plt.ylabel('Drawdown (%)')\n",
        "plt.legend()\n",
        "plt.grid(True, alpha=0.3)\n",
        "plt.show()"
      ],
      "metadata": {
        "id": "ZAUznMvOmbDw"
      },
      "execution_count": null,
      "outputs": []
    },
    {
      "cell_type": "markdown",
      "source": [
        " Drawdown Analysis\n",
        "\n",
        "The drawdown curve reveals the risk profile of Bitcoin over the analyzed period. We observe several major drawdowns:\n",
        "- At some points, Bitcoin experienced declines exceeding **-70%** from its previous peaks.\n",
        "- Such drawdowns are typical for highly volatile assets like cryptocurrencies.\n",
        "\n",
        "Understanding drawdowns is crucial for portfolio risk management and setting realistic expectations for investors. Drawdown analysis complements volatility metrics by capturing the path-dependency of losses.\n",
        "\n",
        "The plot shows Bitcoin drawdowns from 2021 to 2025.\n"
      ],
      "metadata": {
        "id": "vpxTFReFmrxD"
      }
    },
    {
      "cell_type": "markdown",
      "source": [
        "recovery time"
      ],
      "metadata": {
        "id": "74oUNBP5m9le"
      }
    },
    {
      "cell_type": "code",
      "source": [
        "def calculate_drawdown_periods(df):\n",
        "    results = []\n",
        "    peak_date = df.index[0]\n",
        "    running_max = df['Cumulative Return'].iloc[0]\n",
        "    in_drawdown = False\n",
        "    drawdown_start_date = None\n",
        "    drawdown_min = 0\n",
        "\n",
        "    for date, row in df.iterrows():\n",
        "        if row['Cumulative Return'] >= running_max:\n",
        "            running_max = row['Cumulative Return']\n",
        "            if in_drawdown:\n",
        "                # closing drawdown\n",
        "                drawdown_end_date = date\n",
        "                duration = (drawdown_end_date - drawdown_start_date).days\n",
        "                results.append({\n",
        "                    'Start': drawdown_start_date,\n",
        "                    'End': drawdown_end_date,\n",
        "                    'Duration (days)': duration,\n",
        "                    'Min Drawdown (%)': drawdown_min * 100\n",
        "                })\n",
        "                in_drawdown = False\n",
        "        else:\n",
        "            if not in_drawdown:\n",
        "                # start drawdown\n",
        "                drawdown_start_date = date\n",
        "                in_drawdown = True\n",
        "                drawdown_min = row['Drawdown']\n",
        "            else:\n",
        "                drawdown_min = min(drawdown_min, row['Drawdown'])\n",
        "    return pd.DataFrame(results)\n"
      ],
      "metadata": {
        "id": "rH6Zt1hqnJd-"
      },
      "execution_count": null,
      "outputs": []
    },
    {
      "cell_type": "code",
      "source": [
        "btc_drawdown_periods = calculate_drawdown_periods(btc_cleaned)\n",
        "\n",
        "print(\"BTC Drawdown Periods:\")\n",
        "display(btc_drawdown_periods)"
      ],
      "metadata": {
        "id": "4uddrHwYnMcc"
      },
      "execution_count": null,
      "outputs": []
    },
    {
      "cell_type": "markdown",
      "source": [
        "The table below shows the historical drawdown periods of Bitcoin from 2021 to 2025. Each period is defined by:\n",
        "- The start and end dates of the drawdown.\n",
        "- The duration of the drawdown (in days).\n",
        "- The maximum drawdown percentage.\n",
        "\n",
        "This analysis helps to understand the risk profile and volatility cycles of Bitcoin"
      ],
      "metadata": {
        "id": "meTgUDdFoF76"
      }
    },
    {
      "cell_type": "markdown",
      "source": [
        "\n",
        "## Sharpe Ratio Dynamics"
      ],
      "metadata": {
        "id": "q2_eoP430cm1"
      }
    },
    {
      "cell_type": "code",
      "source": [
        "\n",
        "daily_returns = btc_cleaned['Daily Return'] / 100\n",
        "\n",
        "annual_volatility = daily_returns.std() * np.sqrt(252)\n",
        "\n",
        "annual_return = daily_returns.mean() * 252\n",
        "\n",
        "risk_free_rate = 0.0\n",
        "\n",
        "# Sharpe Ratio\n",
        "sharpe_ratio = (annual_return - risk_free_rate) / annual_volatility\n",
        "\n",
        "print(f\"Annualized Sharpe Ratio: {sharpe_ratio:.2f}\")"
      ],
      "metadata": {
        "id": "0RLHOsPFoSOg"
      },
      "execution_count": null,
      "outputs": []
    },
    {
      "cell_type": "markdown",
      "source": [],
      "metadata": {
        "id": "NUFoEUX_z7lC"
      }
    }
  ]
}